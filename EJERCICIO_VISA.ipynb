{
  "nbformat": 4,
  "nbformat_minor": 0,
  "metadata": {
    "colab": {
      "provenance": [],
      "include_colab_link": true
    },
    "kernelspec": {
      "name": "python3",
      "display_name": "Python 3"
    },
    "language_info": {
      "name": "python"
    }
  },
  "cells": [
    {
      "cell_type": "markdown",
      "metadata": {
        "id": "view-in-github",
        "colab_type": "text"
      },
      "source": [
        "<a href=\"https://colab.research.google.com/github/AndreaPoteYong/ANALITICA-DESCRIPTIVA/blob/main/EJERCICIO_VISA.ipynb\" target=\"_parent\"><img src=\"https://colab.research.google.com/assets/colab-badge.svg\" alt=\"Open In Colab\"/></a>"
      ]
    },
    {
      "cell_type": "markdown",
      "source": [
        "# **Solicitudes Visas Colombias**\n",
        "\n",
        "####Betania Alejos\n",
        "####Andrea Pote"
      ],
      "metadata": {
        "id": "LmTZT3qMRXsY"
      }
    },
    {
      "cell_type": "code",
      "execution_count": null,
      "metadata": {
        "colab": {
          "base_uri": "https://localhost:8080/"
        },
        "id": "yuA_DQOqCpP7",
        "outputId": "93ce19dd-4b42-422e-b2b0-b19c1d024c22"
      },
      "outputs": [
        {
          "output_type": "stream",
          "name": "stdout",
          "text": [
            "Requirement already satisfied: pandas in /usr/local/lib/python3.11/dist-packages (2.2.2)\n",
            "Requirement already satisfied: openpyxl in /usr/local/lib/python3.11/dist-packages (3.1.5)\n",
            "Requirement already satisfied: numpy>=1.23.2 in /usr/local/lib/python3.11/dist-packages (from pandas) (1.26.4)\n",
            "Requirement already satisfied: python-dateutil>=2.8.2 in /usr/local/lib/python3.11/dist-packages (from pandas) (2.8.2)\n",
            "Requirement already satisfied: pytz>=2020.1 in /usr/local/lib/python3.11/dist-packages (from pandas) (2025.1)\n",
            "Requirement already satisfied: tzdata>=2022.7 in /usr/local/lib/python3.11/dist-packages (from pandas) (2025.1)\n",
            "Requirement already satisfied: et-xmlfile in /usr/local/lib/python3.11/dist-packages (from openpyxl) (2.0.0)\n",
            "Requirement already satisfied: six>=1.5 in /usr/local/lib/python3.11/dist-packages (from python-dateutil>=2.8.2->pandas) (1.17.0)\n"
          ]
        }
      ],
      "source": [
        "pip install pandas openpyxl"
      ]
    },
    {
      "cell_type": "code",
      "source": [
        "# Importar las librerías\n",
        "import pandas as pd\n",
        "import matplotlib.pyplot as plt\n",
        "import numpy as np\n",
        "import seaborn as sns\n",
        "from scipy import stats\n",
        "\n"
      ],
      "metadata": {
        "id": "lRjSYiVVDSxX"
      },
      "execution_count": 22,
      "outputs": []
    },
    {
      "cell_type": "code",
      "source": [
        "dataset = pd.read_csv(\"Comportamiento_del_tr_mite_de_expedici_n_de_visa_colombiana_a_nacionales_de_Venezuela_20250224.csv\")"
      ],
      "metadata": {
        "colab": {
          "base_uri": "https://localhost:8080/"
        },
        "id": "7D1aGRvCDw0U",
        "outputId": "80cdd092-42cc-4249-c647-6af5ef61893c"
      },
      "execution_count": 9,
      "outputs": [
        {
          "output_type": "stream",
          "name": "stderr",
          "text": [
            "<ipython-input-9-90e2ed7372ff>:1: DtypeWarning: Columns (4) have mixed types. Specify dtype option on import or set low_memory=False.\n",
            "  dataset = pd.read_csv(\"Comportamiento_del_tr_mite_de_expedici_n_de_visa_colombiana_a_nacionales_de_Venezuela_20250224.csv\")\n"
          ]
        }
      ]
    },
    {
      "cell_type": "code",
      "source": [
        "# Visualización  del Dataset\n",
        "dataset.head(10)"
      ],
      "metadata": {
        "id": "K7YCho4eN-Jr",
        "colab": {
          "base_uri": "https://localhost:8080/",
          "height": 661
        },
        "outputId": "914e00c1-8fc4-47ec-b65c-5198760fb927",
        "collapsed": true
      },
      "execution_count": 10,
      "outputs": [
        {
          "output_type": "execute_result",
          "data": {
            "text/plain": [
              "      Tipo de visa                   Actividad de la visa País de nacimiento  \\\n",
              "0         NEGOCIOS                                   NE-1          ARGENTINA   \n",
              "1         NEGOCIOS                                   NE-1          ARGENTINA   \n",
              "2   VISAS MIGRANTE  C�NYUGE DE NACIONALIDAD COLOMBIANO(A)          VENEZUELA   \n",
              "3         NEGOCIOS                                   NE-1              CHILE   \n",
              "4   VISAS MIGRANTE                             TRABAJADOR          VENEZUELA   \n",
              "5  VISAS VISITANTE      ESTUDIANTE / VOLUNTARIO RELIGIOSO          VENEZUELA   \n",
              "6   VISAS MIGRANTE                             TRABAJADOR          VENEZUELA   \n",
              "7   VISAS MIGRANTE                             TRABAJADOR          VENEZUELA   \n",
              "8         NEGOCIOS                                   NE-1               CUBA   \n",
              "9         NEGOCIOS                                   NE-1               CUBA   \n",
              "\n",
              "  Sexo Edad Tiene Hijos       Nivel académico     Area conocimiento  \\\n",
              "0    M   49          NO         (NO REGISTRA)         (NO REGISTRA)   \n",
              "1    M   52          NO  POSTGRADO - MAESTRIA  CIENCIAS DE LA SALUD   \n",
              "2    M   69          NO         SIN PROFESI�N               NINGUNA   \n",
              "3    M   62          NO         (NO REGISTRA)         (NO REGISTRA)   \n",
              "4    M   18          NO         SIN PROFESI�N               NINGUNA   \n",
              "5    F   24          NO         SIN PROFESI�N               NINGUNA   \n",
              "6    F   15          NO         SIN PROFESI�N               NINGUNA   \n",
              "7    F    5          NO         SIN PROFESI�N               NINGUNA   \n",
              "8    M   49          NO         (NO REGISTRA)         (NO REGISTRA)   \n",
              "9    M   66          NO         (NO REGISTRA)         (NO REGISTRA)   \n",
              "\n",
              "  Subarea conocimiento Ciudad domicilio Colombia  \\\n",
              "0        (NO REGISTRA)                    CUCUTA   \n",
              "1             MEDICINA              BARRANQUILLA   \n",
              "2              NINGUNA                   ARMENIA   \n",
              "3        (NO REGISTRA)                    CUCUTA   \n",
              "4              NINGUNA               BOGOTA D.C.   \n",
              "5              NINGUNA                      CALI   \n",
              "6              NINGUNA               BOGOTA D.C.   \n",
              "7              NINGUNA                 BOGOT� DC   \n",
              "8        (NO REGISTRA)                    BOGOTA   \n",
              "9        (NO REGISTRA)                    BOGOTA   \n",
              "\n",
              "   Ciudad domicilio Colombia Código Departamento domicilio Colombia  \\\n",
              "0                             54001              NORTE DE SANTANDER   \n",
              "1                              8001                       ATLANTICO   \n",
              "2                             63001                         QUINDIO   \n",
              "3                             54001              NORTE DE SANTANDER   \n",
              "4                             11001                    CUNDINAMARCA   \n",
              "5                             76001                 VALLE DEL CAUCA   \n",
              "6                             11001                    CUNDINAMARCA   \n",
              "7                             11001                    CUNDINAMARCA   \n",
              "8                             11001                    CUNDINAMARCA   \n",
              "9                             11001                    CUNDINAMARCA   \n",
              "\n",
              "  Actividad en Colombia Ocupación en Colombia Sector de actividad en Colombia  \\\n",
              "0             NO INDICA           NO REGISTRA                       NO INDICA   \n",
              "1             NO INDICA           NO REGISTRA                       SERVICIOS   \n",
              "2               TRABAJO           NO REGISTRA                       SERVICIOS   \n",
              "3             NO INDICA       INGENIERO CIVIL                       NO INDICA   \n",
              "4             NO INDICA                 HOGAR                       NO INDICA   \n",
              "5             NO INDICA             RELIGIOSO                       NO INDICA   \n",
              "6             NO INDICA            ESTUDIANTE                       NO INDICA   \n",
              "7             NO INDICA                 HOGAR                       NO INDICA   \n",
              "8             NO INDICA    INGENIERO MECANICO                       NO INDICA   \n",
              "9             NO INDICA            ECONOMISTA                       NO INDICA   \n",
              "\n",
              "  Tiene familiares residentes en Colombia  Año Expedición  Mes expedición  \\\n",
              "0                                      NO            2014               1   \n",
              "1                                      NO            2017               3   \n",
              "2                                      NO            2023              10   \n",
              "3                                      NO            2014               2   \n",
              "4                                      NO            2023              10   \n",
              "5                                      NO            2023              10   \n",
              "6                                      SI            2022              11   \n",
              "7                                      NO            2022              11   \n",
              "8                                      NO            2013               9   \n",
              "9                                      NO            2014              10   \n",
              "\n",
              "   Numero  \n",
              "0       1  \n",
              "1       1  \n",
              "2       1  \n",
              "3       1  \n",
              "4       1  \n",
              "5       1  \n",
              "6       1  \n",
              "7       1  \n",
              "8       1  \n",
              "9       1  "
            ],
            "text/html": [
              "\n",
              "  <div id=\"df-df63d4c0-0a24-42c2-834c-57a98acddbec\" class=\"colab-df-container\">\n",
              "    <div>\n",
              "<style scoped>\n",
              "    .dataframe tbody tr th:only-of-type {\n",
              "        vertical-align: middle;\n",
              "    }\n",
              "\n",
              "    .dataframe tbody tr th {\n",
              "        vertical-align: top;\n",
              "    }\n",
              "\n",
              "    .dataframe thead th {\n",
              "        text-align: right;\n",
              "    }\n",
              "</style>\n",
              "<table border=\"1\" class=\"dataframe\">\n",
              "  <thead>\n",
              "    <tr style=\"text-align: right;\">\n",
              "      <th></th>\n",
              "      <th>Tipo de visa</th>\n",
              "      <th>Actividad de la visa</th>\n",
              "      <th>País de nacimiento</th>\n",
              "      <th>Sexo</th>\n",
              "      <th>Edad</th>\n",
              "      <th>Tiene Hijos</th>\n",
              "      <th>Nivel académico</th>\n",
              "      <th>Area conocimiento</th>\n",
              "      <th>Subarea conocimiento</th>\n",
              "      <th>Ciudad domicilio Colombia</th>\n",
              "      <th>Ciudad domicilio Colombia Código</th>\n",
              "      <th>Departamento domicilio Colombia</th>\n",
              "      <th>Actividad en Colombia</th>\n",
              "      <th>Ocupación en Colombia</th>\n",
              "      <th>Sector de actividad en Colombia</th>\n",
              "      <th>Tiene familiares residentes en Colombia</th>\n",
              "      <th>Año Expedición</th>\n",
              "      <th>Mes expedición</th>\n",
              "      <th>Numero</th>\n",
              "    </tr>\n",
              "  </thead>\n",
              "  <tbody>\n",
              "    <tr>\n",
              "      <th>0</th>\n",
              "      <td>NEGOCIOS</td>\n",
              "      <td>NE-1</td>\n",
              "      <td>ARGENTINA</td>\n",
              "      <td>M</td>\n",
              "      <td>49</td>\n",
              "      <td>NO</td>\n",
              "      <td>(NO REGISTRA)</td>\n",
              "      <td>(NO REGISTRA)</td>\n",
              "      <td>(NO REGISTRA)</td>\n",
              "      <td>CUCUTA</td>\n",
              "      <td>54001</td>\n",
              "      <td>NORTE DE SANTANDER</td>\n",
              "      <td>NO INDICA</td>\n",
              "      <td>NO REGISTRA</td>\n",
              "      <td>NO INDICA</td>\n",
              "      <td>NO</td>\n",
              "      <td>2014</td>\n",
              "      <td>1</td>\n",
              "      <td>1</td>\n",
              "    </tr>\n",
              "    <tr>\n",
              "      <th>1</th>\n",
              "      <td>NEGOCIOS</td>\n",
              "      <td>NE-1</td>\n",
              "      <td>ARGENTINA</td>\n",
              "      <td>M</td>\n",
              "      <td>52</td>\n",
              "      <td>NO</td>\n",
              "      <td>POSTGRADO - MAESTRIA</td>\n",
              "      <td>CIENCIAS DE LA SALUD</td>\n",
              "      <td>MEDICINA</td>\n",
              "      <td>BARRANQUILLA</td>\n",
              "      <td>8001</td>\n",
              "      <td>ATLANTICO</td>\n",
              "      <td>NO INDICA</td>\n",
              "      <td>NO REGISTRA</td>\n",
              "      <td>SERVICIOS</td>\n",
              "      <td>NO</td>\n",
              "      <td>2017</td>\n",
              "      <td>3</td>\n",
              "      <td>1</td>\n",
              "    </tr>\n",
              "    <tr>\n",
              "      <th>2</th>\n",
              "      <td>VISAS MIGRANTE</td>\n",
              "      <td>C�NYUGE DE NACIONALIDAD COLOMBIANO(A)</td>\n",
              "      <td>VENEZUELA</td>\n",
              "      <td>M</td>\n",
              "      <td>69</td>\n",
              "      <td>NO</td>\n",
              "      <td>SIN PROFESI�N</td>\n",
              "      <td>NINGUNA</td>\n",
              "      <td>NINGUNA</td>\n",
              "      <td>ARMENIA</td>\n",
              "      <td>63001</td>\n",
              "      <td>QUINDIO</td>\n",
              "      <td>TRABAJO</td>\n",
              "      <td>NO REGISTRA</td>\n",
              "      <td>SERVICIOS</td>\n",
              "      <td>NO</td>\n",
              "      <td>2023</td>\n",
              "      <td>10</td>\n",
              "      <td>1</td>\n",
              "    </tr>\n",
              "    <tr>\n",
              "      <th>3</th>\n",
              "      <td>NEGOCIOS</td>\n",
              "      <td>NE-1</td>\n",
              "      <td>CHILE</td>\n",
              "      <td>M</td>\n",
              "      <td>62</td>\n",
              "      <td>NO</td>\n",
              "      <td>(NO REGISTRA)</td>\n",
              "      <td>(NO REGISTRA)</td>\n",
              "      <td>(NO REGISTRA)</td>\n",
              "      <td>CUCUTA</td>\n",
              "      <td>54001</td>\n",
              "      <td>NORTE DE SANTANDER</td>\n",
              "      <td>NO INDICA</td>\n",
              "      <td>INGENIERO CIVIL</td>\n",
              "      <td>NO INDICA</td>\n",
              "      <td>NO</td>\n",
              "      <td>2014</td>\n",
              "      <td>2</td>\n",
              "      <td>1</td>\n",
              "    </tr>\n",
              "    <tr>\n",
              "      <th>4</th>\n",
              "      <td>VISAS MIGRANTE</td>\n",
              "      <td>TRABAJADOR</td>\n",
              "      <td>VENEZUELA</td>\n",
              "      <td>M</td>\n",
              "      <td>18</td>\n",
              "      <td>NO</td>\n",
              "      <td>SIN PROFESI�N</td>\n",
              "      <td>NINGUNA</td>\n",
              "      <td>NINGUNA</td>\n",
              "      <td>BOGOTA D.C.</td>\n",
              "      <td>11001</td>\n",
              "      <td>CUNDINAMARCA</td>\n",
              "      <td>NO INDICA</td>\n",
              "      <td>HOGAR</td>\n",
              "      <td>NO INDICA</td>\n",
              "      <td>NO</td>\n",
              "      <td>2023</td>\n",
              "      <td>10</td>\n",
              "      <td>1</td>\n",
              "    </tr>\n",
              "    <tr>\n",
              "      <th>5</th>\n",
              "      <td>VISAS VISITANTE</td>\n",
              "      <td>ESTUDIANTE / VOLUNTARIO RELIGIOSO</td>\n",
              "      <td>VENEZUELA</td>\n",
              "      <td>F</td>\n",
              "      <td>24</td>\n",
              "      <td>NO</td>\n",
              "      <td>SIN PROFESI�N</td>\n",
              "      <td>NINGUNA</td>\n",
              "      <td>NINGUNA</td>\n",
              "      <td>CALI</td>\n",
              "      <td>76001</td>\n",
              "      <td>VALLE DEL CAUCA</td>\n",
              "      <td>NO INDICA</td>\n",
              "      <td>RELIGIOSO</td>\n",
              "      <td>NO INDICA</td>\n",
              "      <td>NO</td>\n",
              "      <td>2023</td>\n",
              "      <td>10</td>\n",
              "      <td>1</td>\n",
              "    </tr>\n",
              "    <tr>\n",
              "      <th>6</th>\n",
              "      <td>VISAS MIGRANTE</td>\n",
              "      <td>TRABAJADOR</td>\n",
              "      <td>VENEZUELA</td>\n",
              "      <td>F</td>\n",
              "      <td>15</td>\n",
              "      <td>NO</td>\n",
              "      <td>SIN PROFESI�N</td>\n",
              "      <td>NINGUNA</td>\n",
              "      <td>NINGUNA</td>\n",
              "      <td>BOGOTA D.C.</td>\n",
              "      <td>11001</td>\n",
              "      <td>CUNDINAMARCA</td>\n",
              "      <td>NO INDICA</td>\n",
              "      <td>ESTUDIANTE</td>\n",
              "      <td>NO INDICA</td>\n",
              "      <td>SI</td>\n",
              "      <td>2022</td>\n",
              "      <td>11</td>\n",
              "      <td>1</td>\n",
              "    </tr>\n",
              "    <tr>\n",
              "      <th>7</th>\n",
              "      <td>VISAS MIGRANTE</td>\n",
              "      <td>TRABAJADOR</td>\n",
              "      <td>VENEZUELA</td>\n",
              "      <td>F</td>\n",
              "      <td>5</td>\n",
              "      <td>NO</td>\n",
              "      <td>SIN PROFESI�N</td>\n",
              "      <td>NINGUNA</td>\n",
              "      <td>NINGUNA</td>\n",
              "      <td>BOGOT� DC</td>\n",
              "      <td>11001</td>\n",
              "      <td>CUNDINAMARCA</td>\n",
              "      <td>NO INDICA</td>\n",
              "      <td>HOGAR</td>\n",
              "      <td>NO INDICA</td>\n",
              "      <td>NO</td>\n",
              "      <td>2022</td>\n",
              "      <td>11</td>\n",
              "      <td>1</td>\n",
              "    </tr>\n",
              "    <tr>\n",
              "      <th>8</th>\n",
              "      <td>NEGOCIOS</td>\n",
              "      <td>NE-1</td>\n",
              "      <td>CUBA</td>\n",
              "      <td>M</td>\n",
              "      <td>49</td>\n",
              "      <td>NO</td>\n",
              "      <td>(NO REGISTRA)</td>\n",
              "      <td>(NO REGISTRA)</td>\n",
              "      <td>(NO REGISTRA)</td>\n",
              "      <td>BOGOTA</td>\n",
              "      <td>11001</td>\n",
              "      <td>CUNDINAMARCA</td>\n",
              "      <td>NO INDICA</td>\n",
              "      <td>INGENIERO MECANICO</td>\n",
              "      <td>NO INDICA</td>\n",
              "      <td>NO</td>\n",
              "      <td>2013</td>\n",
              "      <td>9</td>\n",
              "      <td>1</td>\n",
              "    </tr>\n",
              "    <tr>\n",
              "      <th>9</th>\n",
              "      <td>NEGOCIOS</td>\n",
              "      <td>NE-1</td>\n",
              "      <td>CUBA</td>\n",
              "      <td>M</td>\n",
              "      <td>66</td>\n",
              "      <td>NO</td>\n",
              "      <td>(NO REGISTRA)</td>\n",
              "      <td>(NO REGISTRA)</td>\n",
              "      <td>(NO REGISTRA)</td>\n",
              "      <td>BOGOTA</td>\n",
              "      <td>11001</td>\n",
              "      <td>CUNDINAMARCA</td>\n",
              "      <td>NO INDICA</td>\n",
              "      <td>ECONOMISTA</td>\n",
              "      <td>NO INDICA</td>\n",
              "      <td>NO</td>\n",
              "      <td>2014</td>\n",
              "      <td>10</td>\n",
              "      <td>1</td>\n",
              "    </tr>\n",
              "  </tbody>\n",
              "</table>\n",
              "</div>\n",
              "    <div class=\"colab-df-buttons\">\n",
              "\n",
              "  <div class=\"colab-df-container\">\n",
              "    <button class=\"colab-df-convert\" onclick=\"convertToInteractive('df-df63d4c0-0a24-42c2-834c-57a98acddbec')\"\n",
              "            title=\"Convert this dataframe to an interactive table.\"\n",
              "            style=\"display:none;\">\n",
              "\n",
              "  <svg xmlns=\"http://www.w3.org/2000/svg\" height=\"24px\" viewBox=\"0 -960 960 960\">\n",
              "    <path d=\"M120-120v-720h720v720H120Zm60-500h600v-160H180v160Zm220 220h160v-160H400v160Zm0 220h160v-160H400v160ZM180-400h160v-160H180v160Zm440 0h160v-160H620v160ZM180-180h160v-160H180v160Zm440 0h160v-160H620v160Z\"/>\n",
              "  </svg>\n",
              "    </button>\n",
              "\n",
              "  <style>\n",
              "    .colab-df-container {\n",
              "      display:flex;\n",
              "      gap: 12px;\n",
              "    }\n",
              "\n",
              "    .colab-df-convert {\n",
              "      background-color: #E8F0FE;\n",
              "      border: none;\n",
              "      border-radius: 50%;\n",
              "      cursor: pointer;\n",
              "      display: none;\n",
              "      fill: #1967D2;\n",
              "      height: 32px;\n",
              "      padding: 0 0 0 0;\n",
              "      width: 32px;\n",
              "    }\n",
              "\n",
              "    .colab-df-convert:hover {\n",
              "      background-color: #E2EBFA;\n",
              "      box-shadow: 0px 1px 2px rgba(60, 64, 67, 0.3), 0px 1px 3px 1px rgba(60, 64, 67, 0.15);\n",
              "      fill: #174EA6;\n",
              "    }\n",
              "\n",
              "    .colab-df-buttons div {\n",
              "      margin-bottom: 4px;\n",
              "    }\n",
              "\n",
              "    [theme=dark] .colab-df-convert {\n",
              "      background-color: #3B4455;\n",
              "      fill: #D2E3FC;\n",
              "    }\n",
              "\n",
              "    [theme=dark] .colab-df-convert:hover {\n",
              "      background-color: #434B5C;\n",
              "      box-shadow: 0px 1px 3px 1px rgba(0, 0, 0, 0.15);\n",
              "      filter: drop-shadow(0px 1px 2px rgba(0, 0, 0, 0.3));\n",
              "      fill: #FFFFFF;\n",
              "    }\n",
              "  </style>\n",
              "\n",
              "    <script>\n",
              "      const buttonEl =\n",
              "        document.querySelector('#df-df63d4c0-0a24-42c2-834c-57a98acddbec button.colab-df-convert');\n",
              "      buttonEl.style.display =\n",
              "        google.colab.kernel.accessAllowed ? 'block' : 'none';\n",
              "\n",
              "      async function convertToInteractive(key) {\n",
              "        const element = document.querySelector('#df-df63d4c0-0a24-42c2-834c-57a98acddbec');\n",
              "        const dataTable =\n",
              "          await google.colab.kernel.invokeFunction('convertToInteractive',\n",
              "                                                    [key], {});\n",
              "        if (!dataTable) return;\n",
              "\n",
              "        const docLinkHtml = 'Like what you see? Visit the ' +\n",
              "          '<a target=\"_blank\" href=https://colab.research.google.com/notebooks/data_table.ipynb>data table notebook</a>'\n",
              "          + ' to learn more about interactive tables.';\n",
              "        element.innerHTML = '';\n",
              "        dataTable['output_type'] = 'display_data';\n",
              "        await google.colab.output.renderOutput(dataTable, element);\n",
              "        const docLink = document.createElement('div');\n",
              "        docLink.innerHTML = docLinkHtml;\n",
              "        element.appendChild(docLink);\n",
              "      }\n",
              "    </script>\n",
              "  </div>\n",
              "\n",
              "\n",
              "<div id=\"df-faf3f778-f615-488a-969b-8efc74b1296c\">\n",
              "  <button class=\"colab-df-quickchart\" onclick=\"quickchart('df-faf3f778-f615-488a-969b-8efc74b1296c')\"\n",
              "            title=\"Suggest charts\"\n",
              "            style=\"display:none;\">\n",
              "\n",
              "<svg xmlns=\"http://www.w3.org/2000/svg\" height=\"24px\"viewBox=\"0 0 24 24\"\n",
              "     width=\"24px\">\n",
              "    <g>\n",
              "        <path d=\"M19 3H5c-1.1 0-2 .9-2 2v14c0 1.1.9 2 2 2h14c1.1 0 2-.9 2-2V5c0-1.1-.9-2-2-2zM9 17H7v-7h2v7zm4 0h-2V7h2v10zm4 0h-2v-4h2v4z\"/>\n",
              "    </g>\n",
              "</svg>\n",
              "  </button>\n",
              "\n",
              "<style>\n",
              "  .colab-df-quickchart {\n",
              "      --bg-color: #E8F0FE;\n",
              "      --fill-color: #1967D2;\n",
              "      --hover-bg-color: #E2EBFA;\n",
              "      --hover-fill-color: #174EA6;\n",
              "      --disabled-fill-color: #AAA;\n",
              "      --disabled-bg-color: #DDD;\n",
              "  }\n",
              "\n",
              "  [theme=dark] .colab-df-quickchart {\n",
              "      --bg-color: #3B4455;\n",
              "      --fill-color: #D2E3FC;\n",
              "      --hover-bg-color: #434B5C;\n",
              "      --hover-fill-color: #FFFFFF;\n",
              "      --disabled-bg-color: #3B4455;\n",
              "      --disabled-fill-color: #666;\n",
              "  }\n",
              "\n",
              "  .colab-df-quickchart {\n",
              "    background-color: var(--bg-color);\n",
              "    border: none;\n",
              "    border-radius: 50%;\n",
              "    cursor: pointer;\n",
              "    display: none;\n",
              "    fill: var(--fill-color);\n",
              "    height: 32px;\n",
              "    padding: 0;\n",
              "    width: 32px;\n",
              "  }\n",
              "\n",
              "  .colab-df-quickchart:hover {\n",
              "    background-color: var(--hover-bg-color);\n",
              "    box-shadow: 0 1px 2px rgba(60, 64, 67, 0.3), 0 1px 3px 1px rgba(60, 64, 67, 0.15);\n",
              "    fill: var(--button-hover-fill-color);\n",
              "  }\n",
              "\n",
              "  .colab-df-quickchart-complete:disabled,\n",
              "  .colab-df-quickchart-complete:disabled:hover {\n",
              "    background-color: var(--disabled-bg-color);\n",
              "    fill: var(--disabled-fill-color);\n",
              "    box-shadow: none;\n",
              "  }\n",
              "\n",
              "  .colab-df-spinner {\n",
              "    border: 2px solid var(--fill-color);\n",
              "    border-color: transparent;\n",
              "    border-bottom-color: var(--fill-color);\n",
              "    animation:\n",
              "      spin 1s steps(1) infinite;\n",
              "  }\n",
              "\n",
              "  @keyframes spin {\n",
              "    0% {\n",
              "      border-color: transparent;\n",
              "      border-bottom-color: var(--fill-color);\n",
              "      border-left-color: var(--fill-color);\n",
              "    }\n",
              "    20% {\n",
              "      border-color: transparent;\n",
              "      border-left-color: var(--fill-color);\n",
              "      border-top-color: var(--fill-color);\n",
              "    }\n",
              "    30% {\n",
              "      border-color: transparent;\n",
              "      border-left-color: var(--fill-color);\n",
              "      border-top-color: var(--fill-color);\n",
              "      border-right-color: var(--fill-color);\n",
              "    }\n",
              "    40% {\n",
              "      border-color: transparent;\n",
              "      border-right-color: var(--fill-color);\n",
              "      border-top-color: var(--fill-color);\n",
              "    }\n",
              "    60% {\n",
              "      border-color: transparent;\n",
              "      border-right-color: var(--fill-color);\n",
              "    }\n",
              "    80% {\n",
              "      border-color: transparent;\n",
              "      border-right-color: var(--fill-color);\n",
              "      border-bottom-color: var(--fill-color);\n",
              "    }\n",
              "    90% {\n",
              "      border-color: transparent;\n",
              "      border-bottom-color: var(--fill-color);\n",
              "    }\n",
              "  }\n",
              "</style>\n",
              "\n",
              "  <script>\n",
              "    async function quickchart(key) {\n",
              "      const quickchartButtonEl =\n",
              "        document.querySelector('#' + key + ' button');\n",
              "      quickchartButtonEl.disabled = true;  // To prevent multiple clicks.\n",
              "      quickchartButtonEl.classList.add('colab-df-spinner');\n",
              "      try {\n",
              "        const charts = await google.colab.kernel.invokeFunction(\n",
              "            'suggestCharts', [key], {});\n",
              "      } catch (error) {\n",
              "        console.error('Error during call to suggestCharts:', error);\n",
              "      }\n",
              "      quickchartButtonEl.classList.remove('colab-df-spinner');\n",
              "      quickchartButtonEl.classList.add('colab-df-quickchart-complete');\n",
              "    }\n",
              "    (() => {\n",
              "      let quickchartButtonEl =\n",
              "        document.querySelector('#df-faf3f778-f615-488a-969b-8efc74b1296c button');\n",
              "      quickchartButtonEl.style.display =\n",
              "        google.colab.kernel.accessAllowed ? 'block' : 'none';\n",
              "    })();\n",
              "  </script>\n",
              "</div>\n",
              "\n",
              "    </div>\n",
              "  </div>\n"
            ],
            "application/vnd.google.colaboratory.intrinsic+json": {
              "type": "dataframe",
              "variable_name": "dataset"
            }
          },
          "metadata": {},
          "execution_count": 10
        }
      ]
    },
    {
      "cell_type": "code",
      "source": [
        "# Identificacion de los tipos de datos dentro de mi dataset\n",
        "dataset.info()"
      ],
      "metadata": {
        "colab": {
          "base_uri": "https://localhost:8080/"
        },
        "id": "ejgfKyX3yxxC",
        "outputId": "7b1a1161-9903-4123-b9aa-760976a759f7"
      },
      "execution_count": 11,
      "outputs": [
        {
          "output_type": "stream",
          "name": "stdout",
          "text": [
            "<class 'pandas.core.frame.DataFrame'>\n",
            "RangeIndex: 133970 entries, 0 to 133969\n",
            "Data columns (total 19 columns):\n",
            " #   Column                                   Non-Null Count   Dtype \n",
            "---  ------                                   --------------   ----- \n",
            " 0   Tipo de visa                             133970 non-null  object\n",
            " 1   Actividad de la visa                     133970 non-null  object\n",
            " 2   País de nacimiento                       133970 non-null  object\n",
            " 3   Sexo                                     133970 non-null  object\n",
            " 4   Edad                                     133970 non-null  object\n",
            " 5   Tiene Hijos                              133970 non-null  object\n",
            " 6   Nivel académico                          133970 non-null  object\n",
            " 7   Area conocimiento                        133970 non-null  object\n",
            " 8   Subarea conocimiento                     133970 non-null  object\n",
            " 9   Ciudad domicilio Colombia                133970 non-null  object\n",
            " 10  Ciudad domicilio Colombia Código         133970 non-null  int64 \n",
            " 11  Departamento domicilio Colombia          133970 non-null  object\n",
            " 12  Actividad en Colombia                    133970 non-null  object\n",
            " 13  Ocupación en Colombia                    133958 non-null  object\n",
            " 14  Sector de actividad en Colombia          133970 non-null  object\n",
            " 15  Tiene familiares residentes en Colombia  133970 non-null  object\n",
            " 16  Año Expedición                           133970 non-null  int64 \n",
            " 17  Mes expedición                           133970 non-null  int64 \n",
            " 18  Numero                                   133970 non-null  int64 \n",
            "dtypes: int64(4), object(15)\n",
            "memory usage: 19.4+ MB\n"
          ]
        }
      ]
    },
    {
      "cell_type": "code",
      "source": [
        "# Identificación de las columnas de mi dataset\n",
        "dataset.columns"
      ],
      "metadata": {
        "colab": {
          "base_uri": "https://localhost:8080/"
        },
        "id": "IY61ex_qy1va",
        "outputId": "e007cf4e-2b94-4315-ceef-8eba1b7740a8"
      },
      "execution_count": 12,
      "outputs": [
        {
          "output_type": "execute_result",
          "data": {
            "text/plain": [
              "Index(['Tipo de visa', 'Actividad de la visa', 'País de nacimiento', 'Sexo',\n",
              "       'Edad', 'Tiene Hijos', 'Nivel académico', 'Area conocimiento',\n",
              "       'Subarea conocimiento', 'Ciudad domicilio Colombia',\n",
              "       'Ciudad domicilio Colombia Código', 'Departamento domicilio Colombia',\n",
              "       'Actividad en Colombia', 'Ocupación en Colombia',\n",
              "       'Sector de actividad en Colombia',\n",
              "       'Tiene familiares residentes en Colombia', 'Año Expedición',\n",
              "       'Mes expedición', 'Numero'],\n",
              "      dtype='object')"
            ]
          },
          "metadata": {},
          "execution_count": 12
        }
      ]
    },
    {
      "source": [
        "# Medidas de estimación central\n",
        "\n",
        "# Obtener la media\n",
        "# Convertir columna edad a dato numerico\n",
        "media_edad = pd.to_numeric(dataset[\"Edad\"], errors='coerce').mean()\n",
        "# Convertir la columna numero a dato numerico\n",
        "media_numero = pd.to_numeric(dataset[\"Numero\"], errors='coerce').mean()\n",
        "\n",
        "print(f\"La media de la edad es: {media_edad}\")\n",
        "print(f\"La media de numero es: {media_numero}\")"
      ],
      "cell_type": "code",
      "metadata": {
        "colab": {
          "base_uri": "https://localhost:8080/"
        },
        "id": "_cj4JsZu39iX",
        "outputId": "154660c7-6ebe-43e6-a4db-7bab98eaa459"
      },
      "execution_count": 19,
      "outputs": [
        {
          "output_type": "stream",
          "name": "stdout",
          "text": [
            "La media de la población es: 37.026319914605835\n",
            "La media de homicidios es: 1.0282003433604539\n"
          ]
        }
      ]
    },
    {
      "source": [
        "\n",
        "# Obtener la media truncada\n",
        "mediatruncada_edad = stats.trim_mean(pd.to_numeric(dataset[\"Edad\"], errors='coerce'), 0.1)\n",
        "mediatruncada_numero = stats.trim_mean(pd.to_numeric(dataset[\"Numero\"], errors='coerce'), 0.1)\n",
        "print(f\"La media truncada de la edad es: {mediatruncada_edad}\")\n",
        "print(f\"La media truncada de numero es: {mediatruncada_numero}\")"
      ],
      "cell_type": "code",
      "metadata": {
        "colab": {
          "base_uri": "https://localhost:8080/"
        },
        "id": "aaqtaeHH4txl",
        "outputId": "89a2349b-87e6-4cb4-ccf9-dbd08dea6970"
      },
      "execution_count": 23,
      "outputs": [
        {
          "output_type": "stream",
          "name": "stdout",
          "text": [
            "La media truncada de la población es: 36.68822310965142\n",
            "La media truncada de homicidios es: 1.0\n"
          ]
        }
      ]
    },
    {
      "source": [
        "# Obtener la mediana\n",
        "mediana_edad = pd.to_numeric(dataset[\"Edad\"], errors='coerce').median()\n",
        "mediana_numero = pd.to_numeric(dataset[\"Numero\"], errors='coerce').median()\n",
        "print(f\"La mediana de la edad es: {mediana_edad}\")\n",
        "print(f\"La mediana de numero es: {mediana_numero}\")"
      ],
      "cell_type": "code",
      "metadata": {
        "colab": {
          "base_uri": "https://localhost:8080/"
        },
        "id": "3JFQPK3v5yjx",
        "outputId": "4b46481e-4b68-4d40-873d-13ce7438e58f"
      },
      "execution_count": 25,
      "outputs": [
        {
          "output_type": "stream",
          "name": "stdout",
          "text": [
            "La mediana de la población es: 36.0\n",
            "La mediana de homicidios es: 1.0\n"
          ]
        }
      ]
    },
    {
      "cell_type": "code",
      "source": [
        " # Obtener la moda\n",
        "moda_edad = dataset[\"Edad\"].mode()\n",
        "moda_numero = dataset[\"Numero\"].mode()\n",
        "\n",
        "print(f\"Moda de Número es: {moda_numero}\")\n",
        "print(f\"Moda de Edad es: {moda_edad}\")"
      ],
      "metadata": {
        "colab": {
          "base_uri": "https://localhost:8080/"
        },
        "id": "Aq9x9iQA9Tl-",
        "outputId": "634ba1f2-2bd3-4b32-fbd5-ed5e5b44f32d"
      },
      "execution_count": 45,
      "outputs": [
        {
          "output_type": "stream",
          "name": "stdout",
          "text": [
            "Moda de Número es: 0    1\n",
            "Name: Numero, dtype: int64\n",
            "Moda de Edad es: 0    33.0\n",
            "Name: Edad, dtype: float64\n"
          ]
        }
      ]
    },
    {
      "source": [
        "# Desviaciones\n",
        "\n",
        "# Convertir 'Edad' columna numerica\n",
        "dataset['Edad'] = pd.to_numeric(dataset['Edad'], errors='coerce')\n",
        "\n",
        "# Calculo la desviacion estandar\n",
        "std_edad = dataset['Edad'].std()\n",
        "\n",
        "print(std_edad)"
      ],
      "cell_type": "code",
      "metadata": {
        "colab": {
          "base_uri": "https://localhost:8080/"
        },
        "id": "dOSZ5s1C6gPI",
        "outputId": "5ac05ff3-c1ca-4c40-eae3-29b809d2b2c5"
      },
      "execution_count": 27,
      "outputs": [
        {
          "output_type": "stream",
          "name": "stdout",
          "text": [
            "14.8558373010505\n"
          ]
        }
      ]
    },
    {
      "source": [
        "# Diagramas de Caja\n",
        "#Representacion de la distribucion\n",
        "ax = dataset.boxplot(column='Edad')\n",
        "ax.set_ylim(0,0.3*1e3)\n",
        "plt.show()"
      ],
      "cell_type": "code",
      "metadata": {
        "id": "_5uBmx92gEyI",
        "outputId": "a261abe1-4f89-4e3b-9e57-ddd7b9690e56",
        "colab": {
          "base_uri": "https://localhost:8080/",
          "height": 435
        }
      },
      "execution_count": 36,
      "outputs": [
        {
          "output_type": "display_data",
          "data": {
            "text/plain": [
              "<Figure size 640x480 with 1 Axes>"
            ],
            "image/png": "[encoded data removed]"
          },
          "metadata": {}
        }
      ]
    },
    {
      "cell_type": "code",
      "source": [
        "# Representación de la distribución\n",
        "dataset.boxplot(column=\"Numero\")\n",
        "plt.show()"
      ],
      "metadata": {
        "colab": {
          "base_uri": "https://localhost:8080/",
          "height": 430
        },
        "id": "IsVjoQhs5KF9",
        "outputId": "9877ba13-a83d-4907-9406-eeb082c557e8"
      },
      "execution_count": 37,
      "outputs": [
        {
          "output_type": "display_data",
          "data": {
            "text/plain": [
              "<Figure size 640x480 with 1 Axes>"
            ],
            "image/png": "[encoded data removed]"
          },
          "metadata": {}
        }
      ]
    },
    {
      "cell_type": "code",
      "source": [
        " # Obtener la moda - Variables cualitativa\n",
        "\n",
        "moda_sexo = dataset[\"Sexo\"]. mode()\n",
        "moda_tipo_de_visa = dataset[\"Tipo de visa\"].mode()\n",
        "moda_nivel_academico = dataset[\"Nivel académico\"].mode()\n",
        "\n",
        "print(f\"Moda de sexo es: {moda_sexo}\")\n",
        "print(f\"Moda tipo de visa es: {moda_tipo_de_visa}\")\n",
        "print(f\"Moda nivel academico es: {moda_nivel_academico}\")"
      ],
      "metadata": {
        "colab": {
          "base_uri": "https://localhost:8080/"
        },
        "id": "-5bxkJNb-5mA",
        "outputId": "2cfd5f4b-1cc7-483b-b7ac-dff174f2b556"
      },
      "execution_count": 47,
      "outputs": [
        {
          "output_type": "stream",
          "name": "stdout",
          "text": [
            "Moda de sexo es: 0    M\n",
            "Name: Sexo, dtype: object\n",
            "Moda tipo de visa es: 0    TEMPORAL\n",
            "Name: Tipo de visa, dtype: object\n",
            "Moda nivel academico es: 0    PREGRADO - PROFESIONAL\n",
            "Name: Nivel académico, dtype: object\n"
          ]
        }
      ]
    },
    {
      "source": [
        "\n",
        "# TABLA DE CONTIGENCIA\n",
        "# Tipo de visa vs. Nivel académico\n",
        "contingency_table_visa_nivel = pd.crosstab(dataset['Tipo de visa'], dataset['Nivel académico'])\n",
        "print(\"Contingency Table: Tipo de visa vs. Nivel académico\")\n",
        "print(contingency_table_visa_nivel)\n",
        "\n",
        "# Sexo vs. Tipo de visa\n",
        "contingency_table_sexo_visa = pd.crosstab(dataset['Sexo'], dataset['Tipo de visa'])\n",
        "print(\"\\nContingency Table: Sexo vs. Tipo de visa\")\n",
        "print(contingency_table_sexo_visa)"
      ],
      "cell_type": "code",
      "metadata": {
        "colab": {
          "base_uri": "https://localhost:8080/"
        },
        "id": "azL-YdR2CJnd",
        "outputId": "b5f82ac8-e0ee-40e6-e08c-569ba39f63e9"
      },
      "execution_count": 48,
      "outputs": [
        {
          "output_type": "stream",
          "name": "stdout",
          "text": [
            "Contingency Table: Tipo de visa vs. Nivel académico\n",
            "Nivel académico  (NO REGISTRA)  BACHILLERATO  POSTGRADO - DOCTORADO  \\\n",
            "Tipo de visa                                                          \n",
            "NEGOCIOS                   231             0                     15   \n",
            "TEMPORAL                  7898            34                    625   \n",
            "TRASPASOS                  329             0                    159   \n",
            "VISAS MIGRANTE               0             0                    639   \n",
            "VISAS RESIDENTE           1104             7                    291   \n",
            "VISAS VISITANTE              0             0                     70   \n",
            "\n",
            "Nivel académico  POSTGRADO - ESPECIALIZACI�N  POSTGRADO - MAESTRIA  \\\n",
            "Tipo de visa                                                         \n",
            "NEGOCIOS                                  56                    59   \n",
            "TEMPORAL                                2331                  2036   \n",
            "TRASPASOS                                681                   605   \n",
            "VISAS MIGRANTE                          2115                  1585   \n",
            "VISAS RESIDENTE                         1686                  1353   \n",
            "VISAS VISITANTE                          231                   170   \n",
            "\n",
            "Nivel académico  PREGRADO - PROFESIONAL  PREGRADO - TECNOL�GICO  \\\n",
            "Tipo de visa                                                      \n",
            "NEGOCIOS                            384                      30   \n",
            "TEMPORAL                          17466                    1488   \n",
            "TRASPASOS                          3979                     532   \n",
            "VISAS MIGRANTE                    17374                    1565   \n",
            "VISAS RESIDENTE                   12427                    2018   \n",
            "VISAS VISITANTE                    2261                     288   \n",
            "\n",
            "Nivel académico  PREGRADO - T�CNICO PROFESIONAL  PRIMARIA  SIN PROFESI�N  \n",
            "Tipo de visa                                                              \n",
            "NEGOCIOS                                     95         0            118  \n",
            "TEMPORAL                                   3304        13          11111  \n",
            "TRASPASOS                                   731         0           2650  \n",
            "VISAS MIGRANTE                             3082         0          12206  \n",
            "VISAS RESIDENTE                            3411         4           9602  \n",
            "VISAS VISITANTE                             543         0           2978  \n",
            "\n",
            "Contingency Table: Sexo vs. Tipo de visa\n",
            "Tipo de visa  NEGOCIOS  TEMPORAL  TRASPASOS  VISAS MIGRANTE  VISAS RESIDENTE  \\\n",
            "Sexo                                                                           \n",
            "(NO R                0         0          2               1                0   \n",
            "F                  299     21012       5069           18458            15910   \n",
            "M                  689     25294       4595           20106            15993   \n",
            "NB                   0         0          0               1                0   \n",
            "\n",
            "Tipo de visa  VISAS VISITANTE  \n",
            "Sexo                           \n",
            "(NO R                       0  \n",
            "F                        2083  \n",
            "M                        4457  \n",
            "NB                          1  \n"
          ]
        }
      ]
    },
    {
      "cell_type": "code",
      "source": [
        "# hEATMAP DE CORRELACION\n",
        "data_heatmap = dataset[['Edad', 'Numero']]\n",
        "sns.heatmap(data_heatmap.corr(), vmin=-1, vmax=1, cmap=sns.diverging_palette(20, 220, as_cmap=True))\n",
        "plt.show()"
      ],
      "metadata": {
        "colab": {
          "base_uri": "https://localhost:8080/",
          "height": 435
        },
        "id": "igOSrxWCB3bJ",
        "outputId": "cf8df433-75b7-4330-aee4-3cd6a6d976c4"
      },
      "execution_count": 50,
      "outputs": [
        {
          "output_type": "display_data",
          "data": {
            "text/plain": [
              "<Figure size 640x480 with 2 Axes>"
            ],
            "image/png": "[encoded data removed]"
          },
          "metadata": {}
        }
      ]
    },
    {
      "source": [
        "\n",
        "# Matriz de correlacion\n",
        "numerical_data = dataset[['Edad', 'Numero']]\n",
        "correlation_matrix = numerical_data.corr()\n",
        "\n",
        "# Print the correlation matrix\n",
        "print(\"Correlation Matrix:\")\n",
        "print(correlation_matrix)"
      ],
      "cell_type": "code",
      "metadata": {
        "colab": {
          "base_uri": "https://localhost:8080/"
        },
        "id": "hk8ylEQtCul7",
        "outputId": "9d6c7564-f031-4517-c5e9-cb6e25fa15a4"
      },
      "execution_count": 51,
      "outputs": [
        {
          "output_type": "stream",
          "name": "stdout",
          "text": [
            "Correlation Matrix:\n",
            "            Edad    Numero\n",
            "Edad    1.000000 -0.080965\n",
            "Numero -0.080965  1.000000\n"
          ]
        }
      ]
    },
    {
      "cell_type": "code",
      "source": [],
      "metadata": {
        "id": "s5DiiFgzC6Ax"
      },
      "execution_count": null,
      "outputs": []
    }
  ]
}